{
 "cells": [
  {
   "cell_type": "code",
   "execution_count": 1,
   "metadata": {},
   "outputs": [],
   "source": [
    "from preprocessing_videos import preprocessing_videos"
   ]
  },
  {
   "cell_type": "code",
   "execution_count": null,
   "metadata": {},
   "outputs": [
    {
     "name": "stdout",
     "output_type": "stream",
     "text": [
      "walk \t count: 10 \t .avi file(s)\n",
      "(./dataset/walk/lena_walk1.avi):   Number of frame(s): 74 done!\n",
      "(./dataset/walk/daria_walk.avi):   Number of frame(s): 84 done!\n",
      "(./dataset/walk/lena_walk2.avi):   Number of frame(s): 73 done!\n",
      "(./dataset/walk/shahar_walk.avi):   Number of frame(s): 84 done!\n",
      "(./dataset/walk/moshe_walk.avi):   Number of frame(s): 79 done!\n",
      "(./dataset/walk/denis_walk.avi):   Number of frame(s): 68 done!\n",
      "(./dataset/walk/eli_walk.avi):   Number of frame(s): 73 done!\n",
      "(./dataset/walk/ira_walk.avi):   Number of frame(s): 88 done!\n",
      "(./dataset/walk/ido_walk.avi):   Number of frame(s): 43 done!\n",
      "(./dataset/walk/lyova_walk.avi):   Number of frame(s): 50 done!\n",
      "\n",
      "\n",
      "wave2 \t count: 9 \t .avi file(s)\n",
      "(./dataset/wave2/lyova_wave2.avi):   Number of frame(s): 57 done!\n",
      "(./dataset/wave2/denis_wave2.avi):   Number of frame(s): 51 done!\n",
      "(./dataset/wave2/ira_wave2.avi):   Number of frame(s): 114 done!\n",
      "(./dataset/wave2/ido_wave2.avi):   Number of frame(s): 67 done!\n",
      "(./dataset/wave2/lena_wave2.avi):   Number of frame(s): 79 done!\n",
      "(./dataset/wave2/shahar_wave2.avi):   Number of frame(s): 59 done!\n",
      "(./dataset/wave2/eli_wave2.avi):   Number of frame(s): 54 done!\n",
      "(./dataset/wave2/daria_wave2.avi):   Number of frame(s): 81 done!\n",
      "(./dataset/wave2/moshe_wave2.avi):   Number of frame(s): 62 done!\n",
      "\n",
      "\n",
      "bend \t count: 9 \t .avi file(s)\n",
      "(./dataset/bend/denis_bend.avi):   Number of frame(s): 85 done!\n",
      "(./dataset/bend/eli_bend.avi):   Number of frame(s): 63 done!\n",
      "(./dataset/bend/ira_bend.avi):   Number of frame(s): 93 done!\n",
      "(./dataset/bend/ido_bend.avi):   Number of frame(s): 65 done!\n",
      "(./dataset/bend/lyova_bend.avi):   Number of frame(s): 63 done!\n",
      "(./dataset/bend/daria_bend.avi):   Number of frame(s): 84 done!\n",
      "(./dataset/bend/shahar_bend.avi):   Number of frame(s): 61 done!\n",
      "(./dataset/bend/lena_bend.avi):   Number of frame(s): 64 done!\n",
      "(./dataset/bend/moshe_bend.avi):   Number of frame(s): 61 done!\n",
      "\n",
      "\n",
      "side \t count: 9 \t .avi file(s)\n",
      "(./dataset/side/lyova_side.avi):   Number of frame(s): 39 done!\n",
      "(./dataset/side/denis_side.avi):   Number of frame(s): 52 done!\n",
      "(./dataset/side/eli_side.avi):   Number of frame(s): 48 done!\n",
      "(./dataset/side/ido_side.avi):   Number of frame(s): 39 done!\n",
      "(./dataset/side/ira_side.avi):   Number of frame(s): 64 done!\n",
      "(./dataset/side/moshe_side.avi):   Number of frame(s): 46 done!\n",
      "(./dataset/side/lena_side.avi):   Number of frame(s): 60 done!\n",
      "(./dataset/side/daria_side.avi):   Number of frame(s): 53 done!\n",
      "(./dataset/side/shahar_side.avi):   Number of frame(s): 43 done!\n",
      "\n",
      "\n",
      "jump \t count: 9 \t .avi file(s)\n",
      "(./dataset/jump/denis_jump.avi):   Number of frame(s): 67 done!\n",
      "(./dataset/jump/eli_jump.avi):   Number of frame(s): 45 done!\n",
      "(./dataset/jump/ira_jump.avi):   Number of frame(s): 72 done!\n",
      "(./dataset/jump/ido_jump.avi):   Number of frame(s): 43 done!\n",
      "(./dataset/jump/lyova_jump.avi):   Number of frame(s): 40 done!\n",
      "(./dataset/jump/daria_jump.avi):   Number of frame(s): 67 done!\n",
      "(./dataset/jump/shahar_jump.avi):   Number of frame(s): 38 done!\n",
      "(./dataset/jump/moshe_jump.avi):   Number of frame(s): 39 done!\n",
      "(./dataset/jump/lena_jump.avi):   Number of frame(s): 47 done!\n",
      "\n",
      "\n",
      "wave1 \t count: 9 \t .avi file(s)\n",
      "(./dataset/wave1/ira_wave1.avi):   Number of frame(s): 103 done!\n",
      "(./dataset/wave1/lyova_wave1.avi):   Number of frame(s): 54 done!\n",
      "(./dataset/wave1/denis_wave1.avi):   Number of frame(s): 60 done!\n",
      "(./dataset/wave1/lena_wave1.avi):   Number of frame(s): 53 done!\n",
      "(./dataset/wave1/shahar_wave1.avi):   Number of frame(s): 61 done!\n",
      "(./dataset/wave1/ido_wave1.avi):   Number of frame(s): 55 done!\n",
      "(./dataset/wave1/daria_wave1.avi):   Number of frame(s): 82 done!\n",
      "(./dataset/wave1/eli_wave1.avi):   Number of frame(s): 125 done!\n",
      "(./dataset/wave1/moshe_wave1.avi):   Number of frame(s): 60 done!\n",
      "\n",
      "\n",
      "jack \t count: 9 \t .avi file(s)\n",
      "(./dataset/jack/daria_jack.avi):   Number of frame(s): 89 done!\n",
      "(./dataset/jack/shahar_jack.avi):   "
     ]
    }
   ],
   "source": [
    "preprocessing_videos(dataset_location='./dataset',vtype='.avi')"
   ]
  }
 ],
 "metadata": {
  "kernelspec": {
   "display_name": "Python 3",
   "language": "python",
   "name": "python3"
  },
  "language_info": {
   "codemirror_mode": {
    "name": "ipython",
    "version": 3
   },
   "file_extension": ".py",
   "mimetype": "text/x-python",
   "name": "python",
   "nbconvert_exporter": "python",
   "pygments_lexer": "ipython3",
   "version": "3.7.2"
  }
 },
 "nbformat": 4,
 "nbformat_minor": 2
}
